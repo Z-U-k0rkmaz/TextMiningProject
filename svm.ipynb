{
 "cells": [
  {
   "cell_type": "markdown",
   "metadata": {},
   "source": [
    "# Library"
   ]
  },
  {
   "cell_type": "code",
   "execution_count": 1,
   "metadata": {},
   "outputs": [],
   "source": [
    "from sklearn.svm import SVC\n",
    "\n",
    "from sklearn.feature_extraction.text import TfidfVectorizer, CountVectorizer\n",
    "\n",
    "from sklearn.model_selection import train_test_split , GridSearchCV\n",
    "from sklearn.metrics import accuracy_score, classification_report, confusion_matrix\n",
    "\n",
    "import numpy as np\n",
    "import pandas as pd\n",
    "import matplotlib.pyplot as plt\n",
    "import seaborn as sns\n",
    "\n",
    "import re\n",
    "import string"
   ]
  },
  {
   "cell_type": "markdown",
   "metadata": {},
   "source": [
    "# Methods"
   ]
  },
  {
   "cell_type": "code",
   "execution_count": 2,
   "metadata": {},
   "outputs": [],
   "source": [
    "def load_stop_words(file_path):\n",
    "    with open(file_path, 'r', encoding='utf-8') as file:\n",
    "        stop_words = set(file.read().splitlines())\n",
    "    return stop_words"
   ]
  },
  {
   "cell_type": "markdown",
   "metadata": {},
   "source": [
    "# Main"
   ]
  },
  {
   "cell_type": "markdown",
   "metadata": {},
   "source": [
    "## Dataset"
   ]
  },
  {
   "cell_type": "code",
   "execution_count": 3,
   "metadata": {},
   "outputs": [
    {
     "name": "stdout",
     "output_type": "stream",
     "text": [
      "  writer  file_id                                             column\n",
      "0    ttu       27  O zaman 28 Şubat neden yapıldı?  \\r\\n     \\r\\n...\n",
      "1    ttu       28  O zaman 28 Şubat neden yapıldı?  \\r\\n     \\r\\n...\n",
      "2    ttu        3  Cumhuriyetin en kritik yerel seçimi \\r\\nMURAT ...\n",
      "3    ttu        4  Çekilin artık kamera karşısından \\r\\nHER kar y...\n",
      "4    ttu       23  Lorant'ın heyecan veren hedefi  \\r\\n     \\r\\n\\...\n",
      "5    ttu       14  Gerçekten de gülüp geçilecek bir öneri \\r\\nGAZ...\n",
      "6    ttu       13  Mercedes çeşitlemeleri \\r\\nTÜRK insanı, Merced...\n",
      "7    ttu       31  Yazarın çilesi  \\r\\n     \\r\\n\\r\\n  \\r\\nZAMAN z...\n",
      "8    ttu       19  Tüm yazı konularını silip süpüren fotoğraf \\r\\...\n",
      "9    ttu       11  Şarkta böyledir bu işler...  \\r\\n     \\r\\nttu...\n",
      "<class 'pandas.core.frame.DataFrame'>\n",
      "RangeIndex: 630 entries, 0 to 629\n",
      "Data columns (total 3 columns):\n",
      " #   Column   Non-Null Count  Dtype \n",
      "---  ------   --------------  ----- \n",
      " 0   writer   630 non-null    object\n",
      " 1   file_id  630 non-null    int64 \n",
      " 2   column   630 non-null    object\n",
      "dtypes: int64(1), object(2)\n",
      "memory usage: 14.9+ KB\n",
      "None\n"
     ]
    }
   ],
   "source": [
    "dataset = pd.read_json(\"dataset\\Turkish_data_depository_630koseyazisi.jsonl\",lines=True)\n",
    "print(dataset.head(10))\n",
    "print(dataset.info())"
   ]
  },
  {
   "cell_type": "code",
   "execution_count": 4,
   "metadata": {},
   "outputs": [
    {
     "name": "stdout",
     "output_type": "stream",
     "text": [
      "type x : <class 'numpy.ndarray'> , type y : <class 'numpy.ndarray'>\n"
     ]
    }
   ],
   "source": [
    "x = dataset.iloc[:, 2].values.astype(\"str\") # author text\n",
    "y = dataset.iloc[:, 0].values.astype(\"str\") # author name\n",
    "\n",
    "print(f\"type x : {type(x)} , type y : {type(y)}\")"
   ]
  },
  {
   "cell_type": "markdown",
   "metadata": {},
   "source": [
    "## Preprocesing"
   ]
  },
  {
   "cell_type": "code",
   "execution_count": 5,
   "metadata": {},
   "outputs": [],
   "source": [
    "# turkish stop words\n",
    "stop_words =  load_stop_words(\"stopwordsTR\\stopwords.txt\")\n",
    "\n",
    "# Her bir metni temizleme işlemi\n",
    "for i in range(len(x)):\n",
    "    # Convert to lowercase - Küçük harfe çevirme\n",
    "    x[i] = x[i].lower()\n",
    "    \n",
    "    # Remove escape characters - Kaçış karakterlerini kaldırma\n",
    "    x[i] = re.sub(r'[\\r\\n]', ' ', x[i]) \n",
    "    \n",
    "    # Remove unnecessary characters - Gereksiz karakterleri kaldırma\n",
    "    x[i] = re.sub(r'[^a-zA-ZğüşıöçĞÜŞİÖÇ\\s]', '', x[i])\n",
    "    \n",
    "    # Remove stop words - Stop kelimeleri kaldırma\n",
    "    x[i] = ' '.join([word for word in x[i].split() if word not in stop_words])\n",
    "    \n",
    "    # Remove punctuation marks - Noktalama işaretlerini kaldırma\n",
    "    x[i] = x[i].translate(str.maketrans('', '', string.punctuation))\n",
    "    \n",
    "    # Remove repeating spaces - Tekrar eden boşlukları kaldırma\n",
    "    x[i] = re.sub(r'\\s+', ' ', x[i])"
   ]
  },
  {
   "cell_type": "markdown",
   "metadata": {},
   "source": [
    "# Convert to feature vector"
   ]
  },
  {
   "cell_type": "markdown",
   "metadata": {},
   "source": [
    "# Yöntemler"
   ]
  },
  {
   "cell_type": "markdown",
   "metadata": {},
   "source": [
    "## TF-IDF (Term Frequency-Inverse Document Frequency):\n",
    "It is a statistical method used to measure the importance of words in text documents. TF-IDF vectors combine each word's frequency (TF) in the text and its rarity (IDF) across all documents.\n",
    "\n",
    "Metin belgelerindeki kelimelerin önemini ölçmek için kullanılan bir istatistiksel yöntemdir. TF-IDF vektörleri, her kelimenin metindeki sıklığını (TF) ve tüm belgelerdeki nadirliğini (IDF) birleştirir."
   ]
  },
  {
   "cell_type": "code",
   "execution_count": 6,
   "metadata": {},
   "outputs": [
    {
     "name": "stdout",
     "output_type": "stream",
     "text": [
      "TF-IDF Vektörü (Örnek):   (0, 17080)\t0.06186254539557715\n",
      "  (0, 32471)\t0.0511575158034168\n",
      "  (0, 25685)\t0.05905933162262373\n",
      "  (0, 19075)\t0.040820233169889156\n",
      "  (0, 43838)\t0.03662262504905008\n",
      "  (0, 37247)\t0.06186254539557715\n",
      "  (0, 3382)\t0.06186254539557715\n",
      "  (0, 35092)\t0.023175473657450724\n",
      "  (0, 12735)\t0.03484605866534959\n",
      "  (0, 8736)\t0.06186254539557715\n",
      "  (0, 27050)\t0.0382062319024461\n",
      "  (0, 41766)\t0.052305209940066835\n",
      "  (0, 51106)\t0.03569390951786267\n",
      "  (0, 46512)\t0.02986850336649319\n",
      "  (0, 12742)\t0.04244803120041957\n",
      "  (0, 36102)\t0.05360635823803543\n",
      "  (0, 11953)\t0.03464514148833336\n",
      "  (0, 14406)\t0.06186254539557715\n",
      "  (0, 52468)\t0.04835430203046337\n",
      "  (0, 46233)\t0.026854434488219992\n",
      "  (0, 53903)\t0.05905933162262373\n",
      "  (0, 10955)\t0.03406611148733226\n",
      "  (0, 5673)\t0.041600180347906475\n",
      "  (0, 18990)\t0.05360635823803543\n",
      "  (0, 17025)\t0.0511575158034168\n",
      "  :\t:\n",
      "  (0, 17336)\t0.0511575158034168\n",
      "  (0, 17175)\t0.05360635823803543\n",
      "  (0, 23969)\t0.03898763033485278\n",
      "  (0, 2576)\t0.052305209940066835\n",
      "  (0, 8070)\t0.05905933162262373\n",
      "  (0, 13978)\t0.06186254539557715\n",
      "  (0, 23184)\t0.1237250907911543\n",
      "  (0, 45293)\t0.08250360693085725\n",
      "  (0, 1355)\t0.052305209940066835\n",
      "  (0, 6934)\t0.06186254539557715\n",
      "  (0, 3468)\t0.19225706935437695\n",
      "  (0, 23596)\t0.03235220858555327\n",
      "  (0, 40670)\t0.0438765556632582\n",
      "  (0, 40807)\t0.0438765556632582\n",
      "  (0, 30118)\t0.06186254539557715\n",
      "  (0, 44812)\t0.10721271647607086\n",
      "  (0, 34981)\t0.11376998019344152\n",
      "  (0, 39134)\t0.044960353585002985\n",
      "  (0, 17058)\t0.027501202310285747\n",
      "  (0, 29476)\t0.07052153083077296\n",
      "  (0, 19750)\t0.08489606240083913\n",
      "  (0, 32423)\t0.05680260135189962\n",
      "  (0, 48259)\t0.08402977419588675\n",
      "  (0, 55662)\t0.18740894622191417\n",
      "  (0, 51208)\t0.07398645055046958\n"
     ]
    }
   ],
   "source": [
    "# Create TF-IDF vector - TF-IDF vektörlerini oluşturma\n",
    "tfidf_vectorizer = TfidfVectorizer(ngram_range=(1, 1))\n",
    "tfidf_matrix = tfidf_vectorizer.fit_transform(x)\n",
    "\n",
    "example_tfidf_vector = tfidf_matrix[0]\n",
    "print(\"TF-IDF Vektörü (Örnek):\", example_tfidf_vector)"
   ]
  },
  {
   "cell_type": "markdown",
   "metadata": {},
   "source": [
    "# SVM"
   ]
  },
  {
   "cell_type": "code",
   "execution_count": 7,
   "metadata": {},
   "outputs": [
    {
     "name": "stdout",
     "output_type": "stream",
     "text": [
      "SVM Modeli Doğruluğu: 0.25396825396825395\n"
     ]
    },
    {
     "data": {
      "image/png": "[encoded data removed]",
      "text/plain": [
       "<Figure size 640x480 with 2 Axes>"
      ]
     },
     "metadata": {},
     "output_type": "display_data"
    },
    {
     "name": "stdout",
     "output_type": "stream",
     "text": [
      "              precision    recall  f1-score   support\n",
      "\n",
      "         aar       0.07      1.00      0.14         4\n",
      "         bco       0.00      0.00      0.00         8\n",
      "         cul       0.11      1.00      0.20         4\n",
      "         cun       1.00      1.00      1.00         5\n",
      "         ebr       0.00      0.00      0.00        11\n",
      "         gur       1.00      0.25      0.40         8\n",
      "         hin       0.00      0.00      0.00         6\n",
      "         kaz       1.00      0.78      0.88         9\n",
      "         lev       0.31      0.80      0.44         5\n",
      "         msa       1.00      0.17      0.29         6\n",
      "         oek       0.00      0.00      0.00         9\n",
      "         psu       0.00      0.00      0.00        10\n",
      "         sav       0.57      0.80      0.67         5\n",
      "         tal       0.00      0.00      0.00         9\n",
      "         ttu       0.00      0.00      0.00         6\n",
      "         tug       0.00      0.00      0.00         6\n",
      "         ved       0.00      0.00      0.00         8\n",
      "         yba       1.00      0.14      0.25         7\n",
      "\n",
      "    accuracy                           0.25       126\n",
      "   macro avg       0.34      0.33      0.24       126\n",
      "weighted avg       0.32      0.25      0.21       126\n",
      "\n"
     ]
    },
    {
     "name": "stderr",
     "output_type": "stream",
     "text": [
      "c:\\Users\\Umitk\\AppData\\Local\\Programs\\Python\\Python311\\Lib\\site-packages\\sklearn\\metrics\\_classification.py:1509: UndefinedMetricWarning: Precision is ill-defined and being set to 0.0 in labels with no predicted samples. Use `zero_division` parameter to control this behavior.\n",
      "  _warn_prf(average, modifier, f\"{metric.capitalize()} is\", len(result))\n",
      "c:\\Users\\Umitk\\AppData\\Local\\Programs\\Python\\Python311\\Lib\\site-packages\\sklearn\\metrics\\_classification.py:1509: UndefinedMetricWarning: Precision is ill-defined and being set to 0.0 in labels with no predicted samples. Use `zero_division` parameter to control this behavior.\n",
      "  _warn_prf(average, modifier, f\"{metric.capitalize()} is\", len(result))\n",
      "c:\\Users\\Umitk\\AppData\\Local\\Programs\\Python\\Python311\\Lib\\site-packages\\sklearn\\metrics\\_classification.py:1509: UndefinedMetricWarning: Precision is ill-defined and being set to 0.0 in labels with no predicted samples. Use `zero_division` parameter to control this behavior.\n",
      "  _warn_prf(average, modifier, f\"{metric.capitalize()} is\", len(result))\n"
     ]
    }
   ],
   "source": [
    "# Verileri eğitim ve test setlerine ayırma\n",
    "x_train, x_test, y_train, y_test = train_test_split(tfidf_matrix, y, test_size=0.2, random_state=42)\n",
    "\n",
    "# Destek Vektör Makinesi (SVM) modelini oluşturma ve eğitme\n",
    "svm_model = SVC(kernel='rbf',gamma=2,C=1)\n",
    "svm_model.fit(x_train, y_train)\n",
    "\n",
    "# Test seti üzerinde modelin performansını değerlendirme\n",
    "y_pred = svm_model.predict(x_test)\n",
    "accuracy = accuracy_score(y_test, y_pred)\n",
    "print(\"SVM Modeli Doğruluğu:\", accuracy)\n",
    "\n",
    "# karar ağacı modelinin performansını görselleştirme\n",
    "conf_matrix = confusion_matrix(y_test, y_pred)\n",
    "sns.heatmap(conf_matrix, annot=True, fmt='d')\n",
    "plt.xlabel('Tahmin Edilen')\n",
    "plt.ylabel('Gerçek')\n",
    "plt.show()\n",
    "\n",
    "# Sınıflandırma raporunu görüntüleme\n",
    "class_report = classification_report(y_test, y_pred)\n",
    "print(class_report)\n"
   ]
  },
  {
   "cell_type": "code",
   "execution_count": 8,
   "metadata": {},
   "outputs": [
    {
     "name": "stdout",
     "output_type": "stream",
     "text": [
      "En iyi parametreler: {'C': 1, 'gamma': 10, 'kernel': 'sigmoid'}\n"
     ]
    }
   ],
   "source": [
    "# Verileri eğitim ve test setlerine ayırma\n",
    "x_train, x_test, y_train, y_test = train_test_split(tfidf_matrix, y, test_size=0.2, random_state=42)\n",
    "\n",
    "# Genişletilmiş hiperparametre aralığının tanımlanması\n",
    "param_grid = {'C': [0.01, 0.1, 1, 10, 100, 1000],\n",
    "              'kernel': ['linear', 'rbf', 'poly', 'sigmoid'],\n",
    "              'gamma': ['scale', 'auto', 0.1, 1, 10]}\n",
    "\n",
    "# Grid search modelinin oluşturulması\n",
    "grid_search = GridSearchCV(SVC(), param_grid, cv=10, scoring='accuracy')\n",
    "\n",
    "# Grid search modelinin eğitilmesi\n",
    "grid_search.fit(x_train, y_train)\n",
    "\n",
    "# En iyi parametrelerin bulunması\n",
    "best_params = grid_search.best_params_\n",
    "print(\"En iyi parametreler:\", best_params)"
   ]
  },
  {
   "cell_type": "code",
   "execution_count": 9,
   "metadata": {},
   "outputs": [
    {
     "name": "stdout",
     "output_type": "stream",
     "text": [
      "SVM Modeli Doğruluğu: 0.8492063492063492\n"
     ]
    },
    {
     "data": {
      "image/png": "[encoded data removed]",
      "text/plain": [
       "<Figure size 640x480 with 2 Axes>"
      ]
     },
     "metadata": {},
     "output_type": "display_data"
    },
    {
     "name": "stdout",
     "output_type": "stream",
     "text": [
      "              precision    recall  f1-score   support\n",
      "\n",
      "         aar       0.57      1.00      0.73         4\n",
      "         bco       0.67      0.75      0.71         8\n",
      "         cul       0.60      0.75      0.67         4\n",
      "         cun       1.00      1.00      1.00         5\n",
      "         ebr       1.00      1.00      1.00        11\n",
      "         gur       0.88      0.88      0.88         8\n",
      "         hin       0.67      1.00      0.80         6\n",
      "         kaz       1.00      0.89      0.94         9\n",
      "         lev       0.75      0.60      0.67         5\n",
      "         msa       1.00      0.67      0.80         6\n",
      "         oek       1.00      1.00      1.00         9\n",
      "         psu       1.00      0.80      0.89        10\n",
      "         sav       0.60      0.60      0.60         5\n",
      "         tal       0.90      1.00      0.95         9\n",
      "         ttu       0.60      0.50      0.55         6\n",
      "         tug       1.00      0.83      0.91         6\n",
      "         ved       0.86      0.75      0.80         8\n",
      "         yba       1.00      1.00      1.00         7\n",
      "\n",
      "    accuracy                           0.85       126\n",
      "   macro avg       0.84      0.83      0.83       126\n",
      "weighted avg       0.87      0.85      0.85       126\n",
      "\n"
     ]
    }
   ],
   "source": [
    "# Verileri eğitim ve test setlerine ayırma\n",
    "x_train, x_test, y_train, y_test = train_test_split(tfidf_matrix, y, test_size=0.2, random_state=42)\n",
    "\n",
    "# Destek Vektör Makinesi (SVM) modelini oluşturma ve eğitme\n",
    "svm_model = SVC(kernel='sigmoid',C=1,gamma=10)\n",
    "svm_model.fit(x_train, y_train)\n",
    "\n",
    "# Test seti üzerinde modelin performansını değerlendirme\n",
    "y_pred = svm_model.predict(x_test)\n",
    "accuracy = accuracy_score(y_test, y_pred)\n",
    "print(\"SVM Modeli Doğruluğu:\", accuracy)\n",
    "\n",
    "# karar ağacı modelinin performansını görselleştirme\n",
    "conf_matrix = confusion_matrix(y_test, y_pred)\n",
    "sns.heatmap(conf_matrix, annot=True, fmt='d')\n",
    "plt.xlabel('Tahmin Edilen')\n",
    "plt.ylabel('Gerçek')\n",
    "plt.show()\n",
    "\n",
    "# Sınıflandırma raporunu görüntüleme\n",
    "class_report = classification_report(y_test, y_pred)\n",
    "print(class_report)\n"
   ]
  }
 ],
 "metadata": {
  "kernelspec": {
   "display_name": "Python 3",
   "language": "python",
   "name": "python3"
  },
  "language_info": {
   "codemirror_mode": {
    "name": "ipython",
    "version": 3
   },
   "file_extension": ".py",
   "mimetype": "text/x-python",
   "name": "python",
   "nbconvert_exporter": "python",
   "pygments_lexer": "ipython3",
   "version": "3.11.9"
  }
 },
 "nbformat": 4,
 "nbformat_minor": 2
}
