{
 "cells": [
  {
   "cell_type": "code",
   "execution_count": 2,
   "metadata": {},
   "outputs": [],
   "source": [
    "import spacy\n",
    "from spacy_langdetect import LanguageDetector\n",
    "from spacy.lang.tr.stop_words import STOP_WORDS\n",
    "import pandas as pd\n",
    "import re\n",
    "import string"
   ]
  },
  {
   "cell_type": "code",
   "execution_count": 3,
   "metadata": {},
   "outputs": [
    {
     "name": "stdout",
     "output_type": "stream",
     "text": [
      "Dün dün ADV Noun\n",
      "ben ben PRON Pers\n",
      "de de CCONJ Conj\n",
      "gittim git VERB Verb\n",
      ". . PUNCT Punc\n"
     ]
    }
   ],
   "source": [
    "import spacy\n",
    "nlp = spacy.load(\"tr_core_news_lg\")\n",
    "\n",
    "doc = nlp(\"Dün ben de gittim.\")\n",
    "\n",
    "for token in doc:\n",
    "    # Her token için istediğiniz işlemi gerçekleştirin\n",
    "    print(token.text, token.lemma_, token.pos_, token.tag_)"
   ]
  },
  {
   "cell_type": "code",
   "execution_count": 4,
   "metadata": {},
   "outputs": [
    {
     "name": "stdout",
     "output_type": "stream",
     "text": [
      "  writer  file_id                                             column\n",
      "0    ttu       27  O zaman 28 Şubat neden yapıldı?  \\r\\n     \\r\\n...\n",
      "1    ttu       28  O zaman 28 Şubat neden yapıldı?  \\r\\n     \\r\\n...\n",
      "2    ttu        3  Cumhuriyetin en kritik yerel seçimi \\r\\nMURAT ...\n",
      "3    ttu        4  Çekilin artık kamera karşısından \\r\\nHER kar y...\n",
      "4    ttu       23  Lorant'ın heyecan veren hedefi  \\r\\n     \\r\\n\\...\n"
     ]
    }
   ],
   "source": [
    "dataset = pd.read_json(\"..\\dataset\\Turkish_data_depository_630koseyazisi.jsonl\", lines=True)\n",
    "print(dataset.head())"
   ]
  },
  {
   "cell_type": "code",
   "execution_count": 5,
   "metadata": {},
   "outputs": [
    {
     "name": "stdout",
     "output_type": "stream",
     "text": [
      "3.yazar : ttu \n",
      "3.yazı : Çekilin artık kamera karşısından \n",
      "HER kar yağışında böyle olur. İstanbullular hep birlikte aynı tiyatroyu oynarlar. \n",
      "\n",
      "Vatandaşlar yolları tıkamak için her şeyi yaparlar. \n",
      "\n",
      "Günlük güneşlik havada bile doğru dürüst araç kullanamayanlar karda direksiyon başına geçip olmadık gösteriler yapmaya kalkarlar. \n",
      "\n",
      "Hemen hiç kimse kar lastiği, zincir kullanmaz. Kayıp bir başka araca ya da yolun korkuluklarına bindirirler ve yolu tıkarlar. \n",
      "\n",
      "Bazıları da uyanıklık yapıp ters yola girerler. \n",
      "\n",
      "Kimilerinin de benzinleri bittiği için yolda kalırlar. \n",
      "\n",
      "Çoğunlukla belediye ekipleri tam siper olurlar. \n",
      "\n",
      "Trafikçiler de öyle... \n",
      "\n",
      "Karayolları ekipleri ise Kent içi yollar beni ilgilendirmez diye üslerinden çıkmazlar. \n",
      "\n",
      "İstanbul'u yönetenler ne yapar? \n",
      "\n",
      "Onların hiç değişmeyen işleri vardır. Onlar kanal kanal dolaşıp alınan sanal önlemleri ballandıra ballandıra anlatırlar. \n",
      "\n",
      "Halkı soğukkanlı hareket etmeye çağırır, her şeyin kontrol altında olduğunu söylerler.\n",
      "\n",
      "(Uygar ülkelerde bu işi yöneticilerin görevlendirdiği sözcüler yapar. Belli aralıklarla bu sözcü basına açıklamalar yapıp bilgi verir.)\n",
      "\n",
      "Oysa yetkililerin TV'lerde açıklama yaptığı saatlerde A Planı, B Planı, C Planı diye sundukları önlemlerin tümü iflas etmiş, halk sokaklarda perişan olmuştur.\n",
      "\n",
      "Kent de Allah'a emanet edilmiştir. \n",
      "\n",
      "* * *\n",
      "\n",
      "Ben bu tiyatroyu gazeteci olarak tam 35 yıldır seyrederim. \n",
      "\n",
      "Hiçbir şey değişmez, bir sonraki karda yine aynı facia yaşanır. \n",
      "\n",
      "Bizim taşrada görevli gazeteci arkadaşlar da bizim çektiğimiz bu çileyi hiç ciddiye almazlar. \n",
      "\n",
      "İstanbul'a kar yağınca ortalığı birbirine katar, tam sayfa yaparsınız. Tüm Anadolu'yu kar kaplasa, sel götürse tek sütun verirsiniz.\n",
      "\n",
      "Bu eleştiriler haksız değildir. Biz İstanbul'dakiler de bu yakınmalara hep aynı yanıtı veririz:\n",
      "\n",
      "Unutmayın ateş düştüğü yeri yakar. Bir kar yağdığında İstanbul'da olursanız felaketin ne kadar büyük olduğunu görürsünüz. \n",
      "\n",
      "İstanbul'un bir kötü yanı vardır, o da felaket bastırdığı gibi çabucak yok oluverir.\n",
      "\n",
      "Ya lodos eser, ya da yağış yağmura dönüşür, karlar eriyiverir. \n",
      "\n",
      "İstanbul'da hem yönetenler, hem de yönetilenler yaşadıkları felaketi bir sonraki kara kadar unutup giderler.\n",
      "\n",
      "* * *\n",
      "\n",
      "Şurası bir gerçek ki İstanbul bir mega kent olarak bu tip afetlere hazır değil.\n",
      "\n",
      "Altyapı felaket. \n",
      "\n",
      "Bu tip olaylarda hemen elektrikler gider. Elektrik gidince kaloriferler yanmaz, sular akmaz. \n",
      "\n",
      "İşte o zaman da yaşam durur. \n",
      "\n",
      "Kurumlar arasında bir bağlantı olmadığı için işler sarpa sarar. \n",
      "\n",
      "Her kurum bir şeyler yapar, ama birbirlerinden haberi olmadığı için hiçbirinin yaptığı bir işe yaramaz. \n",
      "\n",
      "İnsanlar kábus dolu saatler yaşamak zorunda kalır. \n",
      "\n",
      "Sonuçta halk yöneticiden, yönetici de halktan şikáyet eder. Feryatlar birbirine karışır. \n",
      "\n",
      "Sonra bir dahaki karda açılmak üzere perde iner. \n",
      "\n"
     ]
    }
   ],
   "source": [
    "x = dataset[\"column\"].astype(str)\n",
    "y = dataset[\"writer\"].astype(str)\n",
    "\n",
    "index = 3\n",
    "print(f\"{index}.yazar : {y[index]} \\n{index}.yazı : {x[index]}\")"
   ]
  },
  {
   "cell_type": "code",
   "execution_count": 15,
   "metadata": {},
   "outputs": [],
   "source": [
    "\n",
    "for i in range(len(x)):\n",
    "    # küçük harfe çevirme\n",
    "    x[i] = x[i].lower()\n",
    "    \n",
    "    # kaçış karakterlerini temizleme\n",
    "    x[i] = re.sub(r'[\\r\\n]', ' ', x[i])\n",
    "    \n",
    "    # Remove punctuation marks - Noktalama işaretlerini kaldırma\n",
    "    x[i] = x[i].translate(str.maketrans('', '', string.punctuation))\n",
    "    \n",
    "    # stop word'leri temizleme\n",
    "    x[i] = ' '.join([word for word in x[i].split() if word not in STOP_WORDS])\n",
    "    \n",
    "    # Remove unnecessary characters - Gereksiz karakterleri kaldırma\n",
    "    x[i] = re.sub(r'[^a-zA-ZğüşıöçĞÜŞİÖÇ\\s]', '', x[i])\n",
    "    \n",
    "    # Remove repeating spaces - Tekrar eden boşlukları kaldırma\n",
    "    x[i] = re.sub(r'\\s+', ' ', x[i])\n",
    "    "
   ]
  },
  {
   "cell_type": "code",
   "execution_count": 16,
   "metadata": {},
   "outputs": [
    {
     "name": "stdout",
     "output_type": "stream",
     "text": [
      "3.yazar : ttu \n",
      "3.yazı : çekil kamera karşı kar yağış istanbullu aynı tiyatro oynarla vatandaşlar yol tıka yaparlar günlük güneş hava dürüst araç kullanamayanlar kar direksiyon baş geç olmadık gösteri yap kalkarlar hemen kar lastik zincir kullan kayıp bir araca yolun korkuluk bindirirle yol tıkar bazı uyanık yap ters yol girerler kimi benzin bittiği yol kalırlar belediye ekip siper ol trafikçi karayol ekip kent iç yol ilgilendirmez üs çıkmazlar istanbulu yöneten yap değiş iş var i kanal kanal dolaş alın sanal önlem ballandıra ballandıra anlatır halk soğukkan hareket et çağır şey kontrol alt söyle uygar ülke iş yönetici görevlendir sözcü yap belli aralık sözcü ba açıkla yap bilgi ver yetkili tv açıkla saat a plan b plan c plan sun önlem tüm iflas et halk sokak perişan ol kent allaha emanet edilmiştir tiyatro gazeteci yıl seyrederim değiş bir sonra kar aynı facia yaşa taşra görev gazeteci arkadaş çek çile ciddi almazlar istanbula kar yağınca ortalık kat sayfa yap anadoluyu kar kaplas sel götürse sütun ver eleştiri haksız değildir istanbuldaki yakınma aynı yanıt veririz unut ateş düş yer yak bir kar yağdık istanbul olursanız felaket büyük görürsünüz istanbul bir kötü yan var i felaket bas çabucak oluver lodos eser yağış yağmur dönüşür kar eriyiver istanbul yöneten yönetilen yaşadıkları felaket bir sonra kara unutup gider bir gerçek istanbul bir mega kent tip afet hazır altyapı felaket tip olay hemen elektrik git elektrik gidince kalorifer yan su ak zaman yaşam dur kurum ara bir bağlantı ol iş sarpa sarar kurum bir yap birbiri haber ol bir iş yara insan kbus dolu saat yaşa zor kal sonuç halk yönetici yönetici halktan şikyet et feryat karış bir daha kar açılmak perde in\n"
     ]
    }
   ],
   "source": [
    "index = 3\n",
    "print(f\"{index}.yazar : {y[index]} \\n{index}.yazı : {x[index]}\")"
   ]
  },
  {
   "cell_type": "code",
   "execution_count": 17,
   "metadata": {},
   "outputs": [
    {
     "name": "stdout",
     "output_type": "stream",
     "text": [
      "BoW vektörleri boyutu: (630, 34907)\n",
      "TF-IDF vektörleri boyutu: (630, 34907)\n"
     ]
    }
   ],
   "source": [
    "from sklearn.feature_extraction.text import TfidfVectorizer, CountVectorizer\n",
    "\n",
    "\n",
    "# BoW (Bag of Words) vektörlerini oluşturma\n",
    "bow_vectorizer = CountVectorizer()\n",
    "bow_vectors = bow_vectorizer.fit_transform(x)\n",
    "\n",
    "# TF-IDF vektörlerini oluşturma\n",
    "tfidf_vectorizer = TfidfVectorizer()\n",
    "tfidf_vectors = tfidf_vectorizer.fit_transform(x)\n",
    "\n",
    "# Vektörlerin boyutlarını kontrol etme\n",
    "print(\"BoW vektörleri boyutu:\", bow_vectors.shape)\n",
    "print(\"TF-IDF vektörleri boyutu:\", tfidf_vectors.shape)\n",
    "\n"
   ]
  },
  {
   "cell_type": "markdown",
   "metadata": {},
   "source": [
    "# SVM"
   ]
  },
  {
   "cell_type": "code",
   "execution_count": 18,
   "metadata": {},
   "outputs": [
    {
     "name": "stdout",
     "output_type": "stream",
     "text": [
      "SVM Modeli Doğruluğu: 0.6746031746031746\n"
     ]
    },
    {
     "data": {
      "image/png": "[encoded data removed]",
      "text/plain": [
       "<Figure size 640x480 with 2 Axes>"
      ]
     },
     "metadata": {},
     "output_type": "display_data"
    },
    {
     "name": "stdout",
     "output_type": "stream",
     "text": [
      "              precision    recall  f1-score   support\n",
      "\n",
      "         aar       0.57      1.00      0.73         4\n",
      "         bco       0.80      0.50      0.62         8\n",
      "         cul       0.40      0.50      0.44         4\n",
      "         cun       0.11      0.20      0.14         5\n",
      "         ebr       0.92      1.00      0.96        11\n",
      "         gur       0.78      0.88      0.82         8\n",
      "         hin       0.67      0.33      0.44         6\n",
      "         kaz       0.70      0.78      0.74         9\n",
      "         lev       0.50      0.60      0.55         5\n",
      "         msa       0.80      0.67      0.73         6\n",
      "         oek       0.60      0.67      0.63         9\n",
      "         psu       1.00      0.70      0.82        10\n",
      "         sav       0.36      0.80      0.50         5\n",
      "         tal       1.00      0.33      0.50         9\n",
      "         ttu       0.83      0.83      0.83         6\n",
      "         tug       1.00      1.00      1.00         6\n",
      "         ved       0.80      0.50      0.62         8\n",
      "         yba       0.71      0.71      0.71         7\n",
      "\n",
      "    accuracy                           0.67       126\n",
      "   macro avg       0.70      0.67      0.65       126\n",
      "weighted avg       0.74      0.67      0.68       126\n",
      "\n"
     ]
    }
   ],
   "source": [
    "from sklearn.model_selection import train_test_split, GridSearchCV\n",
    "from sklearn.svm import SVC\n",
    "from sklearn.metrics import accuracy_score, confusion_matrix, classification_report\n",
    "import seaborn as sns\n",
    "import matplotlib.pyplot as plt\n",
    "\n",
    "\n",
    "# Verileri eğitim ve test setlerine ayırma\n",
    "x_train, x_test, y_train, y_test = train_test_split(tfidf_vectors, y, test_size=0.2, random_state=42)\n",
    "\n",
    "# Destek Vektör Makinesi (SVM) modelini oluşturma ve eğitme\n",
    "svm_model = SVC(kernel='sigmoid',C=1,gamma=10,max_iter=500)\n",
    "svm_model.fit(x_train, y_train)\n",
    "\n",
    "# Test seti üzerinde modelin performansını değerlendirme\n",
    "y_pred = svm_model.predict(x_test)\n",
    "accuracy = accuracy_score(y_test, y_pred)\n",
    "print(\"SVM Modeli Doğruluğu:\", accuracy)\n",
    "\n",
    "# karar ağacı modelinin performansını görselleştirme\n",
    "conf_matrix = confusion_matrix(y_test, y_pred)\n",
    "sns.heatmap(conf_matrix, annot=True, fmt='d')\n",
    "plt.xlabel('Tahmin Edilen')\n",
    "plt.ylabel('Gerçek')\n",
    "plt.show()\n",
    "\n",
    "# Sınıflandırma raporunu görüntüleme\n",
    "class_report = classification_report(y_test, y_pred)\n",
    "print(class_report)"
   ]
  }
 ],
 "metadata": {
  "kernelspec": {
   "display_name": "Python 3",
   "language": "python",
   "name": "python3"
  },
  "language_info": {
   "codemirror_mode": {
    "name": "ipython",
    "version": 3
   },
   "file_extension": ".py",
   "mimetype": "text/x-python",
   "name": "python",
   "nbconvert_exporter": "python",
   "pygments_lexer": "ipython3",
   "version": "3.11.9"
  }
 },
 "nbformat": 4,
 "nbformat_minor": 2
}
