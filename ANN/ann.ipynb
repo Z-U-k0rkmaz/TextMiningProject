{
 "cells": [
  {
   "cell_type": "code",
   "execution_count": 26,
   "metadata": {},
   "outputs": [],
   "source": [
    "import spacy\n",
    "from spacy_langdetect import LanguageDetector\n",
    "from spacy.lang.tr.stop_words import STOP_WORDS\n",
    "import pandas as pd\n",
    "import re"
   ]
  },
  {
   "cell_type": "code",
   "execution_count": 27,
   "metadata": {},
   "outputs": [
    {
     "name": "stderr",
     "output_type": "stream",
     "text": [
      "c:\\Users\\Umitk\\AppData\\Local\\Programs\\Python\\Python311\\Lib\\site-packages\\spacy\\util.py:910: UserWarning: [W095] Model 'tr_core_news_lg' (3.4.2) was trained with spaCy v3.4.2 and may not be 100% compatible with the current version (3.7.4). If you see errors or degraded performance, download a newer compatible model or retrain your custom model with the current spaCy version. For more details and available updates, run: python -m spacy validate\n",
      "  warnings.warn(warn_msg)\n"
     ]
    },
    {
     "name": "stdout",
     "output_type": "stream",
     "text": [
      "Dün dün ADV Noun\n",
      "ben ben PRON Pers\n",
      "de de CCONJ Conj\n",
      "gittim git VERB Verb\n",
      ". . PUNCT Punc\n"
     ]
    }
   ],
   "source": [
    "import spacy\n",
    "nlp = spacy.load(\"tr_core_news_lg\")\n",
    "\n",
    "doc = nlp(\"Dün ben de gittim.\")\n",
    "\n",
    "for token in doc:\n",
    "    # Her token için istediğiniz işlemi gerçekleştirin\n",
    "    print(token.text, token.lemma_, token.pos_, token.tag_)"
   ]
  },
  {
   "cell_type": "code",
   "execution_count": 28,
   "metadata": {},
   "outputs": [
    {
     "name": "stdout",
     "output_type": "stream",
     "text": [
      "  writer  file_id                                             column\n",
      "0    ttu       27  O zaman 28 Şubat neden yapıldı?  \\r\\n     \\r\\n...\n",
      "1    ttu       28  O zaman 28 Şubat neden yapıldı?  \\r\\n     \\r\\n...\n",
      "2    ttu        3  Cumhuriyetin en kritik yerel seçimi \\r\\nMURAT ...\n",
      "3    ttu        4  Çekilin artık kamera karşısından \\r\\nHER kar y...\n",
      "4    ttu       23  Lorant'ın heyecan veren hedefi  \\r\\n     \\r\\n\\...\n"
     ]
    }
   ],
   "source": [
    "dataset = pd.read_json(\"..\\dataset\\Turkish_data_depository_630koseyazisi.jsonl\", lines=True)\n",
    "print(dataset.head())"
   ]
  },
  {
   "cell_type": "code",
   "execution_count": 37,
   "metadata": {},
   "outputs": [
    {
     "name": "stdout",
     "output_type": "stream",
     "text": [
      "3.yazar : ttu \n",
      "3.yazı : Çekilin artık kamera karşısından \n",
      "HER kar yağışında böyle olur. İstanbullular hep birlikte aynı tiyatroyu oynarlar. \n",
      "\n",
      "Vatandaşlar yolları tıkamak için her şeyi yaparlar. \n",
      "\n",
      "Günlük güneşlik havada bile doğru dürüst araç kullanamayanlar karda direksiyon başına geçip olmadık gösteriler yapmaya kalkarlar. \n",
      "\n",
      "Hemen hiç kimse kar lastiği, zincir kullanmaz. Kayıp bir başka araca ya da yolun korkuluklarına bindirirler ve yolu tıkarlar. \n",
      "\n",
      "Bazıları da uyanıklık yapıp ters yola girerler. \n",
      "\n",
      "Kimilerinin de benzinleri bittiği için yolda kalırlar. \n",
      "\n",
      "Çoğunlukla belediye ekipleri tam siper olurlar. \n",
      "\n",
      "Trafikçiler de öyle... \n",
      "\n",
      "Karayolları ekipleri ise Kent içi yollar beni ilgilendirmez diye üslerinden çıkmazlar. \n",
      "\n",
      "İstanbul'u yönetenler ne yapar? \n",
      "\n",
      "Onların hiç değişmeyen işleri vardır. Onlar kanal kanal dolaşıp alınan sanal önlemleri ballandıra ballandıra anlatırlar. \n",
      "\n",
      "Halkı soğukkanlı hareket etmeye çağırır, her şeyin kontrol altında olduğunu söylerler.\n",
      "\n",
      "(Uygar ülkelerde bu işi yöneticilerin görevlendirdiği sözcüler yapar. Belli aralıklarla bu sözcü basına açıklamalar yapıp bilgi verir.)\n",
      "\n",
      "Oysa yetkililerin TV'lerde açıklama yaptığı saatlerde A Planı, B Planı, C Planı diye sundukları önlemlerin tümü iflas etmiş, halk sokaklarda perişan olmuştur.\n",
      "\n",
      "Kent de Allah'a emanet edilmiştir. \n",
      "\n",
      "* * *\n",
      "\n",
      "Ben bu tiyatroyu gazeteci olarak tam 35 yıldır seyrederim. \n",
      "\n",
      "Hiçbir şey değişmez, bir sonraki karda yine aynı facia yaşanır. \n",
      "\n",
      "Bizim taşrada görevli gazeteci arkadaşlar da bizim çektiğimiz bu çileyi hiç ciddiye almazlar. \n",
      "\n",
      "İstanbul'a kar yağınca ortalığı birbirine katar, tam sayfa yaparsınız. Tüm Anadolu'yu kar kaplasa, sel götürse tek sütun verirsiniz.\n",
      "\n",
      "Bu eleştiriler haksız değildir. Biz İstanbul'dakiler de bu yakınmalara hep aynı yanıtı veririz:\n",
      "\n",
      "Unutmayın ateş düştüğü yeri yakar. Bir kar yağdığında İstanbul'da olursanız felaketin ne kadar büyük olduğunu görürsünüz. \n",
      "\n",
      "İstanbul'un bir kötü yanı vardır, o da felaket bastırdığı gibi çabucak yok oluverir.\n",
      "\n",
      "Ya lodos eser, ya da yağış yağmura dönüşür, karlar eriyiverir. \n",
      "\n",
      "İstanbul'da hem yönetenler, hem de yönetilenler yaşadıkları felaketi bir sonraki kara kadar unutup giderler.\n",
      "\n",
      "* * *\n",
      "\n",
      "Şurası bir gerçek ki İstanbul bir mega kent olarak bu tip afetlere hazır değil.\n",
      "\n",
      "Altyapı felaket. \n",
      "\n",
      "Bu tip olaylarda hemen elektrikler gider. Elektrik gidince kaloriferler yanmaz, sular akmaz. \n",
      "\n",
      "İşte o zaman da yaşam durur. \n",
      "\n",
      "Kurumlar arasında bir bağlantı olmadığı için işler sarpa sarar. \n",
      "\n",
      "Her kurum bir şeyler yapar, ama birbirlerinden haberi olmadığı için hiçbirinin yaptığı bir işe yaramaz. \n",
      "\n",
      "İnsanlar kábus dolu saatler yaşamak zorunda kalır. \n",
      "\n",
      "Sonuçta halk yöneticiden, yönetici de halktan şikáyet eder. Feryatlar birbirine karışır. \n",
      "\n",
      "Sonra bir dahaki karda açılmak üzere perde iner. \n",
      "\n"
     ]
    }
   ],
   "source": [
    "x = dataset[\"column\"].astype(str)\n",
    "y = dataset[\"writer\"].astype(str)\n",
    "\n",
    "index = 3\n",
    "print(f\"{index}.yazar : {y[index]} \\n{index}.yazı : {x[index]}\")"
   ]
  },
  {
   "cell_type": "code",
   "execution_count": 42,
   "metadata": {},
   "outputs": [],
   "source": [
    "\n",
    "for i in range(len(x)):\n",
    "    # küçük harfe çevirme\n",
    "    x[i] = x[i].lower()\n",
    "    \n",
    "    # kaçış karakterlerini temizleme\n",
    "    x[i] = re.sub(r'[\\r\\n]', ' ', x[i])\n",
    "    \n",
    "    # noktalama işaretlerini temizleme\n",
    "    x[i] = re.sub(r'[^\\w\\s]', '', x[i])\n",
    "    \n",
    "    # stop word'leri temizleme\n",
    "    x[i] = ' '.join([word for word in x[i].split() if word not in STOP_WORDS])\n",
    "    "
   ]
  },
  {
   "cell_type": "code",
   "execution_count": 43,
   "metadata": {},
   "outputs": [
    {
     "name": "stdout",
     "output_type": "stream",
     "text": [
      "3.yazar : ttu \n",
      "3.yazı : çekilin kamera karşısından kar yağışında istanbullular aynı tiyatroyu oynarlar vatandaşlar yolları tıkamak yaparlar günlük güneşlik havada dürüst araç kullanamayanlar karda direksiyon başına geçip olmadık gösteriler yapmaya kalkarlar hemen kar lastiği zincir kullanmaz kayıp bir araca yolun korkuluklarına bindirirler yolu tıkarlar bazıları uyanıklık yapıp ters yola girerler kimilerinin benzinleri bittiği yolda kalırlar belediye ekipleri siper olurlar trafikçiler karayolları ekipleri kent içi yollar ilgilendirmez üslerinden çıkmazlar istanbulu yönetenler yapar değişmeyen işleri vardır kanal kanal dolaşıp alınan sanal önlemleri ballandıra ballandıra anlatırlar halkı soğukkanlı hareket etmeye çağırır şeyin kontrol altında söylerler uygar ülkelerde işi yöneticilerin görevlendirdiği sözcüler yapar belli aralıklarla sözcü basına açıklamalar yapıp bilgi verir yetkililerin tvlerde açıklama saatlerde a planı b planı c planı sundukları önlemlerin tümü iflas etmiş halk sokaklarda perişan olmuştur kent allaha emanet edilmiştir tiyatroyu gazeteci 35 yıldır seyrederim değişmez bir sonraki karda aynı facia yaşanır taşrada görevli gazeteci arkadaşlar çektiğimiz çileyi ciddiye almazlar istanbula kar yağınca ortalığı katar sayfa yaparsınız anadoluyu kar kaplasa sel götürse sütun verirsiniz eleştiriler haksız değildir istanbuldakiler yakınmalara aynı yanıtı veririz unutmayın ateş düştüğü yeri yakar bir kar yağdığında istanbulda olursanız felaketin büyük görürsünüz istanbulun bir kötü yanı vardır felaket bastırdığı çabucak oluverir lodos eser yağış yağmura dönüşür karlar eriyiverir istanbulda yönetenler yönetilenler yaşadıkları felaketi bir sonraki kara unutup giderler bir gerçek istanbul bir mega kent tip afetlere hazır altyapı felaket tip olaylarda hemen elektrikler gider elektrik gidince kaloriferler yanmaz sular akmaz zaman yaşam durur kurumlar arasında bir bağlantı olmadığı işler sarpa sarar kurum bir yapar birbirlerinden haberi olmadığı bir işe yaramaz insanlar kábus dolu saatler yaşamak zorunda kalır sonuçta halk yöneticiden yönetici halktan şikáyet eder feryatlar karışır bir dahaki karda açılmak perde iner\n"
     ]
    }
   ],
   "source": [
    "index = 3\n",
    "print(f\"{index}.yazar : {y[index]} \\n{index}.yazı : {x[index]}\")"
   ]
  },
  {
   "cell_type": "code",
   "execution_count": 46,
   "metadata": {},
   "outputs": [
    {
     "name": "stdout",
     "output_type": "stream",
     "text": [
      "BoW vektörleri boyutu: (630, 56485)\n",
      "TF-IDF vektörleri boyutu: (630, 56485)\n"
     ]
    }
   ],
   "source": [
    "from sklearn.feature_extraction.text import TfidfVectorizer, CountVectorizer\n",
    "\n",
    "\n",
    "# BoW (Bag of Words) vektörlerini oluşturma\n",
    "bow_vectorizer = CountVectorizer()\n",
    "bow_vectors = bow_vectorizer.fit_transform(x)\n",
    "\n",
    "# TF-IDF vektörlerini oluşturma\n",
    "tfidf_vectorizer = TfidfVectorizer()\n",
    "tfidf_vectors = tfidf_vectorizer.fit_transform(x)\n",
    "\n",
    "# Vektörlerin boyutlarını kontrol etme\n",
    "print(\"BoW vektörleri boyutu:\", bow_vectors.shape)\n",
    "print(\"TF-IDF vektörleri boyutu:\", tfidf_vectors.shape)\n",
    "\n"
   ]
  },
  {
   "cell_type": "markdown",
   "metadata": {},
   "source": [
    "# SVM"
   ]
  },
  {
   "cell_type": "code",
   "execution_count": 62,
   "metadata": {},
   "outputs": [
    {
     "name": "stdout",
     "output_type": "stream",
     "text": [
      "SVM Modeli Doğruluğu: 0.8095238095238095\n"
     ]
    },
    {
     "data": {
      "image/png": "[encoded data removed]",
      "text/plain": [
       "<Figure size 640x480 with 2 Axes>"
      ]
     },
     "metadata": {},
     "output_type": "display_data"
    },
    {
     "name": "stdout",
     "output_type": "stream",
     "text": [
      "              precision    recall  f1-score   support\n",
      "\n",
      "         aar       0.67      1.00      0.80         4\n",
      "         bco       0.75      0.75      0.75         8\n",
      "         cul       0.57      1.00      0.73         4\n",
      "         cun       0.71      1.00      0.83         5\n",
      "         ebr       1.00      1.00      1.00        11\n",
      "         gur       0.88      0.88      0.88         8\n",
      "         hin       0.55      1.00      0.71         6\n",
      "         kaz       1.00      0.78      0.88         9\n",
      "         lev       0.75      0.60      0.67         5\n",
      "         msa       1.00      0.67      0.80         6\n",
      "         oek       1.00      0.89      0.94         9\n",
      "         psu       1.00      0.60      0.75        10\n",
      "         sav       0.50      0.80      0.62         5\n",
      "         tal       0.89      0.89      0.89         9\n",
      "         ttu       0.75      0.50      0.60         6\n",
      "         tug       1.00      0.67      0.80         6\n",
      "         ved       0.86      0.75      0.80         8\n",
      "         yba       0.86      0.86      0.86         7\n",
      "\n",
      "    accuracy                           0.81       126\n",
      "   macro avg       0.82      0.81      0.79       126\n",
      "weighted avg       0.85      0.81      0.81       126\n",
      "\n"
     ]
    }
   ],
   "source": [
    "from sklearn.model_selection import train_test_split, GridSearchCV\n",
    "from sklearn.svm import SVC\n",
    "from sklearn.metrics import accuracy_score, confusion_matrix, classification_report\n",
    "import seaborn as sns\n",
    "import matplotlib.pyplot as plt\n",
    "\n",
    "\n",
    "# Verileri eğitim ve test setlerine ayırma\n",
    "x_train, x_test, y_train, y_test = train_test_split(tfidf_vectors, y, test_size=0.2, random_state=42)\n",
    "\n",
    "# Destek Vektör Makinesi (SVM) modelini oluşturma ve eğitme\n",
    "svm_model = SVC(kernel='sigmoid',C=1,gamma=10,max_iter=500)\n",
    "svm_model.fit(x_train, y_train)\n",
    "\n",
    "# Test seti üzerinde modelin performansını değerlendirme\n",
    "y_pred = svm_model.predict(x_test)\n",
    "accuracy = accuracy_score(y_test, y_pred)\n",
    "print(\"SVM Modeli Doğruluğu:\", accuracy)\n",
    "\n",
    "# karar ağacı modelinin performansını görselleştirme\n",
    "conf_matrix = confusion_matrix(y_test, y_pred)\n",
    "sns.heatmap(conf_matrix, annot=True, fmt='d')\n",
    "plt.xlabel('Tahmin Edilen')\n",
    "plt.ylabel('Gerçek')\n",
    "plt.show()\n",
    "\n",
    "# Sınıflandırma raporunu görüntüleme\n",
    "class_report = classification_report(y_test, y_pred)\n",
    "print(class_report)"
   ]
  },
  {
   "cell_type": "code",
   "execution_count": 51,
   "metadata": {},
   "outputs": [
    {
     "name": "stdout",
     "output_type": "stream",
     "text": [
      "SVM Modeli Doğruluğu: 0.031746031746031744\n"
     ]
    },
    {
     "data": {
      "image/png": "[encoded data removed]",
      "text/plain": [
       "<Figure size 640x480 with 2 Axes>"
      ]
     },
     "metadata": {},
     "output_type": "display_data"
    },
    {
     "name": "stdout",
     "output_type": "stream",
     "text": [
      "              precision    recall  f1-score   support\n",
      "\n",
      "         aar       0.00      0.00      0.00         4\n",
      "         bco       0.00      0.00      0.00         8\n",
      "         cul       0.03      1.00      0.06         4\n",
      "         cun       0.00      0.00      0.00         5\n",
      "         ebr       0.00      0.00      0.00        11\n",
      "         gur       0.00      0.00      0.00         8\n",
      "         hin       0.00      0.00      0.00         6\n",
      "         kaz       0.00      0.00      0.00         9\n",
      "         lev       0.00      0.00      0.00         5\n",
      "         msa       0.00      0.00      0.00         6\n",
      "         oek       0.00      0.00      0.00         9\n",
      "         psu       0.00      0.00      0.00        10\n",
      "         sav       0.00      0.00      0.00         5\n",
      "         tal       0.00      0.00      0.00         9\n",
      "         ttu       0.00      0.00      0.00         6\n",
      "         tug       0.00      0.00      0.00         6\n",
      "         ved       0.00      0.00      0.00         8\n",
      "         yba       0.00      0.00      0.00         7\n",
      "\n",
      "    accuracy                           0.03       126\n",
      "   macro avg       0.00      0.06      0.00       126\n",
      "weighted avg       0.00      0.03      0.00       126\n",
      "\n"
     ]
    },
    {
     "name": "stderr",
     "output_type": "stream",
     "text": [
      "c:\\Users\\Umitk\\AppData\\Local\\Programs\\Python\\Python311\\Lib\\site-packages\\sklearn\\metrics\\_classification.py:1509: UndefinedMetricWarning: Precision is ill-defined and being set to 0.0 in labels with no predicted samples. Use `zero_division` parameter to control this behavior.\n",
      "  _warn_prf(average, modifier, f\"{metric.capitalize()} is\", len(result))\n",
      "c:\\Users\\Umitk\\AppData\\Local\\Programs\\Python\\Python311\\Lib\\site-packages\\sklearn\\metrics\\_classification.py:1509: UndefinedMetricWarning: Precision is ill-defined and being set to 0.0 in labels with no predicted samples. Use `zero_division` parameter to control this behavior.\n",
      "  _warn_prf(average, modifier, f\"{metric.capitalize()} is\", len(result))\n",
      "c:\\Users\\Umitk\\AppData\\Local\\Programs\\Python\\Python311\\Lib\\site-packages\\sklearn\\metrics\\_classification.py:1509: UndefinedMetricWarning: Precision is ill-defined and being set to 0.0 in labels with no predicted samples. Use `zero_division` parameter to control this behavior.\n",
      "  _warn_prf(average, modifier, f\"{metric.capitalize()} is\", len(result))\n"
     ]
    }
   ],
   "source": [
    "from sklearn.model_selection import train_test_split, GridSearchCV\n",
    "from sklearn.svm import SVC\n",
    "from sklearn.metrics import accuracy_score, confusion_matrix, classification_report\n",
    "import seaborn as sns\n",
    "import matplotlib.pyplot as plt\n",
    "\n",
    "\n",
    "# Verileri eğitim ve test setlerine ayırma\n",
    "x_train, x_test, y_train, y_test = train_test_split(bow_vectors, y, test_size=0.2, random_state=42)\n",
    "\n",
    "# Destek Vektör Makinesi (SVM) modelini oluşturma ve eğitme\n",
    "svm_model = SVC(kernel='sigmoid',C=1,gamma=10,max_iter=500)\n",
    "svm_model.fit(x_train, y_train)\n",
    "\n",
    "# Test seti üzerinde modelin performansını değerlendirme\n",
    "y_pred = svm_model.predict(x_test)\n",
    "accuracy = accuracy_score(y_test, y_pred)\n",
    "print(\"SVM Modeli Doğruluğu:\", accuracy)\n",
    "\n",
    "# karar ağacı modelinin performansını görselleştirme\n",
    "conf_matrix = confusion_matrix(y_test, y_pred)\n",
    "sns.heatmap(conf_matrix, annot=True, fmt='d')\n",
    "plt.xlabel('Tahmin Edilen')\n",
    "plt.ylabel('Gerçek')\n",
    "plt.show()\n",
    "\n",
    "# Sınıflandırma raporunu görüntüleme\n",
    "class_report = classification_report(y_test, y_pred)\n",
    "print(class_report)"
   ]
  },
  {
   "cell_type": "markdown",
   "metadata": {},
   "source": [
    "# yapay sinir ağları"
   ]
  },
  {
   "cell_type": "code",
   "execution_count": 53,
   "metadata": {},
   "outputs": [
    {
     "name": "stdout",
     "output_type": "stream",
     "text": [
      "<class 'scipy.sparse._csr.csr_matrix'>\n"
     ]
    }
   ],
   "source": [
    "print(type(tfidf_vectors))"
   ]
  },
  {
   "cell_type": "code",
   "execution_count": 59,
   "metadata": {},
   "outputs": [
    {
     "name": "stdout",
     "output_type": "stream",
     "text": [
      "Model doğruluğu: 0.3968253968253968\n"
     ]
    }
   ],
   "source": [
    "import torch\n",
    "import torch.nn as nn\n",
    "import torch.optim as optim\n",
    "from sklearn.model_selection import train_test_split\n",
    "from sklearn.metrics import accuracy_score\n",
    "from sklearn.preprocessing import LabelEncoder\n",
    "\n",
    "X_train, X_test, y_train, y_test = train_test_split(tfidf_vectors.toarray(), y, test_size=0.2, random_state=42)\n",
    "\n",
    "label_encoder = LabelEncoder()\n",
    "y_train_encoded = label_encoder.fit_transform(y_train)\n",
    "y_test_encoded = label_encoder.transform(y_test)\n",
    "\n",
    "# Tensor veri türüne dönüştürme\n",
    "X_train_tensor = torch.tensor(X_train, dtype=torch.float32)\n",
    "X_test_tensor = torch.tensor(X_test, dtype=torch.float32)\n",
    "y_train_tensor = torch.tensor(y_train_encoded, dtype=torch.long)\n",
    "y_test_tensor = torch.tensor(y_test_encoded, dtype=torch.long)\n",
    "\n",
    "# Yapay Sinir Ağı (PyTorch) modeli oluşturma\n",
    "class NeuralNetwork(nn.Module):\n",
    "    def __init__(self, input_size, hidden_size, output_size):\n",
    "        super(NeuralNetwork, self).__init__()\n",
    "        self.fc1 = nn.Linear(input_size, hidden_size)\n",
    "        self.fc2 = nn.Linear(hidden_size, output_size)\n",
    "        self.relu = nn.ReLU()\n",
    "        self.softmax = nn.Softmax(dim=1)\n",
    "        \n",
    "    def forward(self, x):\n",
    "        x = self.fc1(x)\n",
    "        x = self.relu(x)\n",
    "        x = self.fc2(x)\n",
    "        x = self.softmax(x)\n",
    "        return x\n",
    "\n",
    "model = NeuralNetwork(X_train_tensor.shape[1], 100, len(set(dataset[\"writer\"])))\n",
    "\n",
    "# Optimizasyon ve kayıp fonksiyonunu tanımlama\n",
    "criterion = nn.CrossEntropyLoss()\n",
    "optimizer = optim.Adam(model.parameters())\n",
    "\n",
    "# Modeli eğitme\n",
    "for epoch in range(10):\n",
    "    optimizer.zero_grad()\n",
    "    output = model(X_train_tensor)\n",
    "    loss = criterion(output, y_train_tensor)\n",
    "    loss.backward()\n",
    "    optimizer.step()\n",
    "\n",
    "# Modeli test etme\n",
    "with torch.no_grad():\n",
    "    output = model(X_test_tensor)\n",
    "    _, y_pred = torch.max(output, 1)\n",
    "\n",
    "# Doğruluk değerini hesaplama\n",
    "accuracy = accuracy_score(y_test_tensor.numpy(), y_pred.numpy())\n",
    "print(\"Model doğruluğu:\", accuracy)"
   ]
  },
  {
   "cell_type": "code",
   "execution_count": null,
   "metadata": {},
   "outputs": [],
   "source": []
  }
 ],
 "metadata": {
  "kernelspec": {
   "display_name": "Python 3",
   "language": "python",
   "name": "python3"
  },
  "language_info": {
   "codemirror_mode": {
    "name": "ipython",
    "version": 3
   },
   "file_extension": ".py",
   "mimetype": "text/x-python",
   "name": "python",
   "nbconvert_exporter": "python",
   "pygments_lexer": "ipython3",
   "version": "3.11.9"
  }
 },
 "nbformat": 4,
 "nbformat_minor": 2
}
